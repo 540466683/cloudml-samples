{
  "nbformat": 4,
  "nbformat_minor": 0,
  "metadata": {
    "colab": {
      "name": "Text Classification Using Keras and CMLE.ipynb",
      "version": "0.3.2",
      "provenance": [],
      "collapsed_sections": [],
      "toc_visible": true
    },
    "kernelspec": {
      "name": "python2",
      "display_name": "Python 2"
    }
  },
  "cells": [
    {
      "metadata": {
        "id": "UWvrShlZjZwr",
        "colab_type": "text"
      },
      "cell_type": "markdown",
      "source": [
        "# Text Classification Using Keras and CMLE\n",
        "\n",
        "This notebook illustrates CMLE's new custom prediction feature. It allows us to execute arbitrary python pre-processing code prior to invoking a model, as well as post-processing on the produced predictions.\n",
        "\n",
        "This is all done server-side so that the client can pass data directly to CMLE in the unprocessed state.\n",
        "\n",
        "We will take advantage of this for text classification because it involves pre-processing that is not easily accomplished using native tensorflow. Instead we will executve the the non tensorflow pre-processing via python code on the server side."
      ]
    },
    {
      "metadata": {
        "id": "lBFAoHPAJNMO",
        "colab_type": "code",
        "colab": {}
      },
      "cell_type": "code",
      "source": [
        "%load_ext autoreload\n",
        "%autoreload 2"
      ],
      "execution_count": 0,
      "outputs": []
    },
    {
      "metadata": {
        "id": "N0p05OnXRugd",
        "colab_type": "code",
        "colab": {}
      },
      "cell_type": "code",
      "source": [
        "!pip install tensorflow==1.12"
      ],
      "execution_count": 0,
      "outputs": []
    },
    {
      "metadata": {
        "id": "bupGswGOcMW2",
        "colab_type": "code",
        "colab": {}
      },
      "cell_type": "code",
      "source": [
        "import tensorflow as tf\n",
        "print(tf.__version__) "
      ],
      "execution_count": 0,
      "outputs": []
    },
    {
      "metadata": {
        "id": "eQWHJ3X7vLeQ",
        "colab_type": "text"
      },
      "cell_type": "markdown",
      "source": [
        "## Setup"
      ]
    },
    {
      "metadata": {
        "id": "66JlKmfzvPhN",
        "colab_type": "code",
        "colab": {}
      },
      "cell_type": "code",
      "source": [
        "from google.colab import auth\n",
        "auth.authenticate_user()"
      ],
      "execution_count": 0,
      "outputs": []
    },
    {
      "metadata": {
        "id": "ewdEsJuVvNqm",
        "colab_type": "code",
        "colab": {}
      },
      "cell_type": "code",
      "source": [
        "import os\n",
        "\n",
        "PROJECT='vijays-sandbox' # CHANGE TO YOUR GCP PROJECT NAME\n",
        "BUCKET='vijays-sandbox-ml' # CHANGE TO YOUR GCS BUCKET NAME\n",
        "ROOT='keras_text_classification'\n",
        "MODEL_DIR=os.path.join(ROOT,'models')\n",
        "PACKAGES_DIR=os.path.join(ROOT,'packages')"
      ],
      "execution_count": 0,
      "outputs": []
    },
    {
      "metadata": {
        "id": "2utHS2nnzKty",
        "colab_type": "code",
        "colab": {}
      },
      "cell_type": "code",
      "source": [
        "!gcloud config set project {PROJECT}"
      ],
      "execution_count": 0,
      "outputs": []
    },
    {
      "metadata": {
        "id": "dNRtpAzclhBe",
        "colab_type": "code",
        "colab": {}
      },
      "cell_type": "code",
      "source": [
        "# Delete any previous artefacts from Google Cloud Storage\n",
        "!gsutil rm -r gs://{BUCKET}/{ROOT}"
      ],
      "execution_count": 0,
      "outputs": []
    },
    {
      "metadata": {
        "id": "V12s5BFCkYhC",
        "colab_type": "text"
      },
      "cell_type": "markdown",
      "source": [
        "## Download and Explore Data"
      ]
    },
    {
      "metadata": {
        "id": "ww6dAQ7EkHzZ",
        "colab_type": "code",
        "colab": {}
      },
      "cell_type": "code",
      "source": [
        "# Download from Google Cloud Storage\n",
        "%%bash\n",
        "gsutil cp gs://cloud-training-demos/blogs/CMLE_custom_prediction/keras_text_pre_processing/train.tsv .\n",
        "gsutil cp gs://cloud-training-demos/blogs/CMLE_custom_prediction/keras_text_pre_processing/eval.tsv ."
      ],
      "execution_count": 0,
      "outputs": []
    },
    {
      "metadata": {
        "id": "g1XEyk4toH76",
        "colab_type": "code",
        "colab": {}
      },
      "cell_type": "code",
      "source": [
        "!head eval.tsv"
      ],
      "execution_count": 0,
      "outputs": []
    },
    {
      "metadata": {
        "id": "bHqYoDlFsw02",
        "colab_type": "text"
      },
      "cell_type": "markdown",
      "source": [
        "## Preprocessing"
      ]
    },
    {
      "metadata": {
        "id": "yIarI3u3r6vd",
        "colab_type": "text"
      },
      "cell_type": "markdown",
      "source": [
        "### Pre-processing class to be used in both training and serving"
      ]
    },
    {
      "metadata": {
        "id": "GdkNipQtr8-P",
        "colab_type": "code",
        "colab": {}
      },
      "cell_type": "code",
      "source": [
        "%%writefile preprocess.py\n",
        "\n",
        "from tensorflow.python.keras.preprocessing import sequence\n",
        "from tensorflow.keras.preprocessing import text\n",
        "\n",
        "class TextPreprocessor(object):\n",
        "  def __init__(self, vocab_size, max_sequence_length):\n",
        "    self._vocab_size = vocab_size\n",
        "    self._max_sequence_length = max_sequence_length\n",
        "    self._tokenizer = None\n",
        "\n",
        "  def fit(self, text_list):        \n",
        "    # Create vocabulary from input corpus.\n",
        "    tokenizer = text.Tokenizer(num_words=self._vocab_size)\n",
        "    tokenizer.fit_on_texts(text_list)\n",
        "    self._tokenizer = tokenizer\n",
        "\n",
        "  def transform(self, text_list):        \n",
        "    # Transform text to sequence of integers\n",
        "    text_sequence = self._tokenizer.texts_to_sequences(text_list)\n",
        "\n",
        "    # Fix sequence length to max value. Sequences shorter than the length are\n",
        "    # padded in the beginning and sequences longer are truncated\n",
        "    # at the beginning.\n",
        "    padded_text_sequence = sequence.pad_sequences(\n",
        "      text_sequence, maxlen=self._max_sequence_length)\n",
        "    return padded_text_sequence"
      ],
      "execution_count": 0,
      "outputs": []
    },
    {
      "metadata": {
        "id": "pEk_bHo08a1n",
        "colab_type": "text"
      },
      "cell_type": "markdown",
      "source": [
        "### Test Prepocessing Locally"
      ]
    },
    {
      "metadata": {
        "id": "sKtHuVUw8kFO",
        "colab_type": "code",
        "colab": {}
      },
      "cell_type": "code",
      "source": [
        "from preprocess import TextPreprocessor\n",
        "\n",
        "processor = TextPreprocessor(5, 5)\n",
        "processor.fit(['hello machine learning'])\n",
        "processor.transform(['hello machine learning'])"
      ],
      "execution_count": 0,
      "outputs": []
    },
    {
      "metadata": {
        "id": "lsTGmBn4s2fC",
        "colab_type": "text"
      },
      "cell_type": "markdown",
      "source": [
        "## Model Creation"
      ]
    },
    {
      "metadata": {
        "id": "eFKEHCk_WYQU",
        "colab_type": "text"
      },
      "cell_type": "markdown",
      "source": [
        "### Metadata"
      ]
    },
    {
      "metadata": {
        "id": "P-1_lAwsWNFf",
        "colab_type": "code",
        "colab": {}
      },
      "cell_type": "code",
      "source": [
        "CLASSES = {'github': 0, 'nytimes': 1, 'techcrunch': 2}  # label-to-int mapping\n",
        "VOCAB_SIZE = 20000  # Limit on the number vocabulary size used for tokenization\n",
        "MAX_SEQUENCE_LENGTH = 50  # Sentences will be truncated/padded to this length"
      ],
      "execution_count": 0,
      "outputs": []
    },
    {
      "metadata": {
        "id": "jkzmfu3jV-78",
        "colab_type": "text"
      },
      "cell_type": "markdown",
      "source": [
        "### Prepare data for training and evaluation"
      ]
    },
    {
      "metadata": {
        "id": "HDX_3jquWCBY",
        "colab_type": "code",
        "colab": {}
      },
      "cell_type": "code",
      "source": [
        "import pandas as pd\n",
        "import numpy as np\n",
        "from preprocess import TextPreprocessor\n",
        "\n",
        "def load_data(train_data_path, eval_data_path):\n",
        "    # Parse CSV using pandas\n",
        "    column_names = ('label', 'text')\n",
        "    df_train = pd.read_csv(\n",
        "      train_data_path, names=column_names, sep='\\t').sample(frac=1)\n",
        "    df_eval = pd.read_csv(\n",
        "      eval_data_path, names=column_names, sep='\\t')\n",
        "\n",
        "    return ((list(df_train['text']), np.array(df_train['label'].map(CLASSES))),\n",
        "            (list(df_eval['text']), np.array(df_eval['label'].map(CLASSES))))\n",
        "\n",
        "\n",
        "((train_texts, train_labels), (eval_texts, eval_labels)) = load_data(\n",
        "       'train.tsv', 'eval.tsv')\n",
        "\n",
        "# Create vocabulary from training corpus.\n",
        "processor = TextPreprocessor(VOCAB_SIZE, MAX_SEQUENCE_LENGTH)\n",
        "processor.fit(train_texts)\n",
        "\n",
        "# Preprocess the data\n",
        "train_texts_vectorized = processor.transform(train_texts)\n",
        "eval_texts_vectorized = processor.transform(eval_texts)"
      ],
      "execution_count": 0,
      "outputs": []
    },
    {
      "metadata": {
        "id": "MakbLwTbuMsZ",
        "colab_type": "text"
      },
      "cell_type": "markdown",
      "source": [
        "### Save pre-processing object\n",
        "\n",
        "We need to save this so the same tokenizer used at training can be used to pre-process during serving"
      ]
    },
    {
      "metadata": {
        "id": "sziwQgs0uZzx",
        "colab_type": "code",
        "colab": {}
      },
      "cell_type": "code",
      "source": [
        "import pickle\n",
        "\n",
        "with open('./processor_state.pkl', 'wb') as f:\n",
        "  pickle.dump(processor, f)"
      ],
      "execution_count": 0,
      "outputs": []
    },
    {
      "metadata": {
        "id": "r9sDfoXesC1d",
        "colab_type": "text"
      },
      "cell_type": "markdown",
      "source": [
        "### Build the model"
      ]
    },
    {
      "metadata": {
        "id": "E7hifM2esEe9",
        "colab_type": "code",
        "colab": {}
      },
      "cell_type": "code",
      "source": [
        "import tensorflow as tf\n",
        "\n",
        "from tensorflow.keras import models\n",
        "from tensorflow.keras.layers import Dense\n",
        "from tensorflow.keras.layers import Dropout\n",
        "from tensorflow.keras.layers import Embedding\n",
        "from tensorflow.keras.layers import Conv1D\n",
        "from tensorflow.keras.layers import MaxPooling1D\n",
        "from tensorflow.keras.layers import GlobalAveragePooling1D\n",
        "\n",
        "\n",
        "tf.logging.set_verbosity(tf.logging.INFO)\n",
        "\n",
        "#keras model\n",
        "\n",
        "def create_model(vocab_size, embedding_dim, \n",
        "  filters, kernel_size, dropout_rate, pool_size):\n",
        "  \n",
        "  model = models.Sequential()\n",
        "  model.add(Embedding(input_dim=vocab_size,\n",
        "                          output_dim=embedding_dim,\n",
        "                          input_length=MAX_SEQUENCE_LENGTH))\n",
        "\n",
        "  model.add(Dropout(rate=dropout_rate))\n",
        "  model.add(Conv1D(filters=filters,\n",
        "                            kernel_size=kernel_size,\n",
        "                            activation='relu',\n",
        "                            bias_initializer='random_uniform',\n",
        "                            padding='same'))\n",
        "\n",
        "  model.add(MaxPooling1D(pool_size=pool_size))\n",
        "  model.add(Conv1D(filters=filters * 2,\n",
        "                            kernel_size=kernel_size,\n",
        "                            activation='relu',\n",
        "                            bias_initializer='random_uniform',\n",
        "                            padding='same'))\n",
        "  model.add(GlobalAveragePooling1D())\n",
        "  model.add(Dropout(rate=dropout_rate))\n",
        "  model.add(Dense(len(CLASSES), activation='softmax'))\n",
        "\n",
        "  return model\n"
      ],
      "execution_count": 0,
      "outputs": []
    },
    {
      "metadata": {
        "id": "53Gef0A4sjdV",
        "colab_type": "text"
      },
      "cell_type": "markdown",
      "source": [
        "### Train and save the model"
      ]
    },
    {
      "metadata": {
        "id": "HBoFm2yrslU1",
        "colab_type": "code",
        "colab": {}
      },
      "cell_type": "code",
      "source": [
        "LEARNING_RATE=.001\n",
        "EMBEDDING_DIM=200\n",
        "FILTERS=64\n",
        "KERNEL_SIZE=3\n",
        "DROPOUT_RATE=0.2\n",
        "POOL_SIZE=3\n",
        "\n",
        "NUM_EPOCH=1\n",
        "BATCH_SIZE=128\n",
        "\n",
        "model = create_model(VOCAB_SIZE, EMBEDDING_DIM, \n",
        "  FILTERS, KERNEL_SIZE, DROPOUT_RATE,POOL_SIZE)\n",
        "\n",
        "# Compile model with learning parameters.\n",
        "optimizer = tf.keras.optimizers.Adam(lr=LEARNING_RATE)\n",
        "model.compile(\n",
        "  optimizer=optimizer, loss='sparse_categorical_crossentropy', metrics=['acc'])\n",
        "\n",
        "#keras train\n",
        "model.fit(\n",
        "  train_texts_vectorized, train_labels, epochs=NUM_EPOCH, batch_size=BATCH_SIZE)\n",
        "print('Eval loss/accuracy:{}'.format(\n",
        "  model.evaluate(eval_texts_vectorized, eval_labels, batch_size=BATCH_SIZE)))\n",
        "\n",
        "#save model\n",
        "model.save('keras_saved_model.h5')"
      ],
      "execution_count": 0,
      "outputs": []
    },
    {
      "metadata": {
        "id": "4AWJZP3stCta",
        "colab_type": "text"
      },
      "cell_type": "markdown",
      "source": [
        "## Custom Model Prediction Preparation"
      ]
    },
    {
      "metadata": {
        "id": "KeR_jDYjuymX",
        "colab_type": "text"
      },
      "cell_type": "markdown",
      "source": [
        "### Copy model and pre-processing object to GCS"
      ]
    },
    {
      "metadata": {
        "id": "OJwsuGK3ub4S",
        "colab_type": "code",
        "colab": {}
      },
      "cell_type": "code",
      "source": [
        "!gsutil cp keras_saved_model.h5 gs://{BUCKET}/{MODEL_DIR}/\n",
        "!gsutil cp processor_state.pkl gs://{BUCKET}/{MODEL_DIR}/"
      ],
      "execution_count": 0,
      "outputs": []
    },
    {
      "metadata": {
        "id": "DZ0H1GKAueAp",
        "colab_type": "text"
      },
      "cell_type": "markdown",
      "source": [
        "### Define Model Class"
      ]
    },
    {
      "metadata": {
        "id": "xLvpSsMiufVr",
        "colab_type": "code",
        "colab": {}
      },
      "cell_type": "code",
      "source": [
        "%%writefile model_prediction.py\n",
        "\n",
        "import os\n",
        "import pickle\n",
        "import numpy as np\n",
        "\n",
        "\n",
        "class CustomModelPrediction(object):\n",
        "\n",
        "  def __init__(self, model, processor):\n",
        "    self._model = model\n",
        "    self._processor = processor\n",
        "\n",
        "  def _postprocess(self, predictions):\n",
        "    labels = ['github', 'nytimes', 'techcrunch']\n",
        "    label_indexes = [np.argmax(prediction) for prediction in predictions]\n",
        "    return [labels[label_index] for label_index in label_indexes]\n",
        "\n",
        "\n",
        "  def predict(self, instances, **kwargs):\n",
        "    preprocessed_data = self._processor.transform(instances)\n",
        "    predictions =  self._model.predict(preprocessed_data)\n",
        "    labels = self._postprocess(predictions)\n",
        "    return labels\n",
        "\n",
        "\n",
        "  @classmethod\n",
        "  def from_path(cls, model_dir):\n",
        "    import tensorflow.keras as keras\n",
        "    model = keras.models.load_model(\n",
        "      os.path.join(model_dir,'keras_saved_model.h5'))\n",
        "    with open(os.path.join(model_dir, 'processor_state.pkl'), 'rb') as f:\n",
        "      processor = pickle.load(f)\n",
        "\n",
        "    return cls(model, processor)\n",
        " "
      ],
      "execution_count": 0,
      "outputs": []
    },
    {
      "metadata": {
        "id": "kL-jv3GDg_zD",
        "colab_type": "text"
      },
      "cell_type": "markdown",
      "source": [
        "### Test Model Class Locally"
      ]
    },
    {
      "metadata": {
        "id": "ynL_ovR32Od0",
        "colab_type": "code",
        "colab": {}
      },
      "cell_type": "code",
      "source": [
        "# Headlines for Predictions\n",
        "\n",
        "techcrunch=[\n",
        "  'Uber shuts down self-driving trucks unit',\n",
        "  'Grover raises €37M Series A to offer latest tech products as a subscription',\n",
        "  'Tech companies can now bid on the Pentagon’s $10B cloud contract'\n",
        "]\n",
        "nytimes=[\n",
        "  '‘Lopping,’ ‘Tips’ and the ‘Z-List’: Bias Lawsuit Explores Harvard’s Admissions',\n",
        "  'A $3B Plan to Turn Hoover Dam into a Giant Battery',\n",
        "  'A MeToo Reckoning in China’s Workplace Amid Wave of Accusations'\n",
        "]\n",
        "github=[\n",
        "  'Show HN: Moon – 3kb JavaScript UI compiler',\n",
        "  'Show HN: Hello, a CLI tool for managing social media',\n",
        "  'Firefox Nightly added support for time-travel debugging'\n",
        "]\n",
        "requests = (techcrunch+nytimes+github)"
      ],
      "execution_count": 0,
      "outputs": []
    },
    {
      "metadata": {
        "id": "zx53zlPK6YIK",
        "colab_type": "code",
        "colab": {}
      },
      "cell_type": "code",
      "source": [
        "from model_prediction import CustomModelPrediction\n",
        "\n",
        "classifier = CustomModelPrediction.from_path('.')\n",
        "results = classifier.predict(requests)\n",
        "results"
      ],
      "execution_count": 0,
      "outputs": []
    },
    {
      "metadata": {
        "id": "Q4BEQqoGyZP1",
        "colab_type": "text"
      },
      "cell_type": "markdown",
      "source": [
        "### Package up files and copy to GCS"
      ]
    },
    {
      "metadata": {
        "id": "DgQ9UJG_u6Jk",
        "colab_type": "code",
        "colab": {}
      },
      "cell_type": "code",
      "source": [
        "%%writefile setup.py\n",
        "\n",
        "from setuptools import setup\n",
        "\n",
        "setup(\n",
        "  name=\"my_package\",\n",
        "  version=\"0.1\",\n",
        "  include_package_data=True,\n",
        "  scripts=[\"preprocess.py\", \"model_prediction.py\"]\n",
        ")"
      ],
      "execution_count": 0,
      "outputs": []
    },
    {
      "metadata": {
        "id": "IjwWftmpybCI",
        "colab_type": "code",
        "colab": {}
      },
      "cell_type": "code",
      "source": [
        "!python setup.py sdist\n",
        "!gsutil cp ./dist/my_package-0.1.tar.gz gs://{BUCKET}/{PACKAGES_DIR}/my_package-0.1.tar.gz"
      ],
      "execution_count": 0,
      "outputs": []
    },
    {
      "metadata": {
        "id": "pU4D8prVtLNI",
        "colab_type": "text"
      },
      "cell_type": "markdown",
      "source": [
        "## Model Deployment to CMLE"
      ]
    },
    {
      "metadata": {
        "id": "WUEA9FKcy8fM",
        "colab_type": "code",
        "colab": {}
      },
      "cell_type": "code",
      "source": [
        "MODEL_NAME='keras_text_classification'\n",
        "VERSION_NAME='v201902'\n",
        "RUNTIME_VERSION='1.12'\n",
        "REGION='us-central1'"
      ],
      "execution_count": 0,
      "outputs": []
    },
    {
      "metadata": {
        "id": "JBao9v7e1OU0",
        "colab_type": "code",
        "colab": {}
      },
      "cell_type": "code",
      "source": [
        "!gcloud ml-engine models create {MODEL_NAME} --regions {REGION}"
      ],
      "execution_count": 0,
      "outputs": []
    },
    {
      "metadata": {
        "id": "YpZkN4o71PUY",
        "colab_type": "code",
        "colab": {}
      },
      "cell_type": "code",
      "source": [
        "!gcloud ml-engine versions delete {VERSION_NAME} --model {MODEL_NAME} --quiet # run if version already created"
      ],
      "execution_count": 0,
      "outputs": []
    },
    {
      "metadata": {
        "id": "f13OZ3xV6SOL",
        "colab_type": "code",
        "colab": {}
      },
      "cell_type": "code",
      "source": [
        ""
      ],
      "execution_count": 0,
      "outputs": []
    },
    {
      "metadata": {
        "id": "WbE2cKVE1PaX",
        "colab_type": "code",
        "colab": {}
      },
      "cell_type": "code",
      "source": [
        "!gcloud alpha ml-engine versions create {VERSION_NAME} --model {MODEL_NAME} \\\n",
        "--origin=gs://{BUCKET}/{MODEL_DIR}/ \\\n",
        "--python-version=2.7 \\\n",
        "--runtime-version={RUNTIME_VERSION} \\\n",
        "--framework='SCIKIT_LEARN' \\\n",
        "--package-uris=gs://{BUCKET}/{PACKAGES_DIR}/my_package-0.1.tar.gz \\\n",
        "--model-class=model_prediction.CustomModelPrediction"
      ],
      "execution_count": 0,
      "outputs": []
    },
    {
      "metadata": {
        "id": "Jn6EFbPUzUTm",
        "colab_type": "text"
      },
      "cell_type": "markdown",
      "source": [
        "## Online Predictions from CMLE"
      ]
    },
    {
      "metadata": {
        "id": "mNFvql_-zC4N",
        "colab_type": "code",
        "outputId": "abd6738d-dfce-4be2-e23d-e9e4c137310f",
        "colab": {
          "base_uri": "https://localhost:8080/",
          "height": 51
        }
      },
      "cell_type": "code",
      "source": [
        "from googleapiclient import discovery\n",
        "from oauth2client.client import GoogleCredentials\n",
        "import json\n",
        "\n",
        "# JSON format the requests\n",
        "request_data = {'instances': requests}\n",
        "\n",
        "# Authenticate and call CMLE prediction API \n",
        "credentials = GoogleCredentials.get_application_default()\n",
        "api = discovery.build(\n",
        "  'ml', 'v1', credentials=credentials,\n",
        "  discoveryServiceUrl='https://storage.googleapis.com/cloud-ml/discovery/ml_v1_discovery.json')\n",
        "\n",
        "parent = 'projects/{}/models/{}/versions/{}'.format(PROJECT, MODEL_NAME, VERSION_NAME)\n",
        "print(\"Model full name: {}\".format(parent))\n",
        "response = api.projects().predict(body=request_data, name=parent).execute()\n",
        "\n",
        "print(response['predictions'])"
      ],
      "execution_count": 0,
      "outputs": [
        {
          "output_type": "stream",
          "text": [
            "Model url:projects/vijays-sandbox/models/keras_text_classification/versions/v201902\n",
            "[u'techcrunch', u'techcrunch', u'techcrunch', u'nytimes', u'nytimes', u'nytimes', u'github', u'github', u'techcrunch']\n"
          ],
          "name": "stdout"
        }
      ]
    },
    {
      "metadata": {
        "id": "5suq2zMMzqPo",
        "colab_type": "text"
      },
      "cell_type": "markdown",
      "source": [
        "## License"
      ]
    },
    {
      "metadata": {
        "id": "vOpXERCeztV8",
        "colab_type": "text"
      },
      "cell_type": "markdown",
      "source": [
        "Authors: Khalid Salama & Vijay Reddy \n",
        "\n",
        "---\n",
        "**Disclaimer**: This is not an official Google product. The sample code provided for an educational purpose.\n",
        "\n",
        "---\n",
        "\n",
        "Copyright 2019 Google LLC\n",
        "\n",
        "Licensed under the Apache License, Version 2.0 (the \"License\");\n",
        "you may not use this file except in compliance with the License.\n",
        "You may obtain a copy of the License at http://www.apache.org/licenses/LICENSE-2.0.\n",
        "\n",
        "Unless required by applicable law or agreed to in writing, software\n",
        "distributed under the License is distributed on an \"AS IS\" BASIS,\n",
        "WITHOUT WARRANTIES OR CONDITIONS OF ANY KIND, either express or implied.\n",
        "See the License for the specific language governing permissions and\n",
        "limitations under the License."
      ]
    }
  ]
}